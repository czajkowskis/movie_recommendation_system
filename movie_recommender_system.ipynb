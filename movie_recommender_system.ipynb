{
 "cells": [
  {
   "cell_type": "code",
   "execution_count": 5,
   "metadata": {},
   "outputs": [],
   "source": [
    "import numpy as np\n",
    "import pandas as pd\n",
    "import matplotlib.pyplot as plt\n",
    "from sklearn.cluster import KMeans\n",
    "from mlxtend.frequent_patterns import apriori, association_rules\n",
    "from sklearn.metrics import mean_absolute_error\n",
    "from sklearn.model_selection import KFold"
   ]
  },
  {
   "cell_type": "code",
   "execution_count": 6,
   "metadata": {},
   "outputs": [],
   "source": [
    "seed = 1"
   ]
  },
  {
   "cell_type": "code",
   "execution_count": 7,
   "metadata": {},
   "outputs": [
    {
     "data": {
      "text/html": [
       "<div>\n",
       "<style scoped>\n",
       "    .dataframe tbody tr th:only-of-type {\n",
       "        vertical-align: middle;\n",
       "    }\n",
       "\n",
       "    .dataframe tbody tr th {\n",
       "        vertical-align: top;\n",
       "    }\n",
       "\n",
       "    .dataframe thead th {\n",
       "        text-align: right;\n",
       "    }\n",
       "</style>\n",
       "<table border=\"1\" class=\"dataframe\">\n",
       "  <thead>\n",
       "    <tr style=\"text-align: right;\">\n",
       "      <th></th>\n",
       "      <th>Action</th>\n",
       "      <th>Adventure</th>\n",
       "      <th>Animation</th>\n",
       "      <th>Children</th>\n",
       "      <th>Comedy</th>\n",
       "      <th>Crime</th>\n",
       "      <th>Documentary</th>\n",
       "      <th>Drama</th>\n",
       "      <th>Fantasy</th>\n",
       "      <th>Film-Noir</th>\n",
       "      <th>Horror</th>\n",
       "      <th>IMAX</th>\n",
       "      <th>Musical</th>\n",
       "      <th>Mystery</th>\n",
       "      <th>Romance</th>\n",
       "      <th>Sci-Fi</th>\n",
       "      <th>Thriller</th>\n",
       "      <th>War</th>\n",
       "      <th>Western</th>\n",
       "    </tr>\n",
       "    <tr>\n",
       "      <th>movieId</th>\n",
       "      <th></th>\n",
       "      <th></th>\n",
       "      <th></th>\n",
       "      <th></th>\n",
       "      <th></th>\n",
       "      <th></th>\n",
       "      <th></th>\n",
       "      <th></th>\n",
       "      <th></th>\n",
       "      <th></th>\n",
       "      <th></th>\n",
       "      <th></th>\n",
       "      <th></th>\n",
       "      <th></th>\n",
       "      <th></th>\n",
       "      <th></th>\n",
       "      <th></th>\n",
       "      <th></th>\n",
       "      <th></th>\n",
       "    </tr>\n",
       "  </thead>\n",
       "  <tbody>\n",
       "    <tr>\n",
       "      <th>1</th>\n",
       "      <td>False</td>\n",
       "      <td>True</td>\n",
       "      <td>True</td>\n",
       "      <td>True</td>\n",
       "      <td>True</td>\n",
       "      <td>False</td>\n",
       "      <td>False</td>\n",
       "      <td>False</td>\n",
       "      <td>True</td>\n",
       "      <td>False</td>\n",
       "      <td>False</td>\n",
       "      <td>False</td>\n",
       "      <td>False</td>\n",
       "      <td>False</td>\n",
       "      <td>False</td>\n",
       "      <td>False</td>\n",
       "      <td>False</td>\n",
       "      <td>False</td>\n",
       "      <td>False</td>\n",
       "    </tr>\n",
       "    <tr>\n",
       "      <th>2</th>\n",
       "      <td>False</td>\n",
       "      <td>True</td>\n",
       "      <td>False</td>\n",
       "      <td>True</td>\n",
       "      <td>False</td>\n",
       "      <td>False</td>\n",
       "      <td>False</td>\n",
       "      <td>False</td>\n",
       "      <td>True</td>\n",
       "      <td>False</td>\n",
       "      <td>False</td>\n",
       "      <td>False</td>\n",
       "      <td>False</td>\n",
       "      <td>False</td>\n",
       "      <td>False</td>\n",
       "      <td>False</td>\n",
       "      <td>False</td>\n",
       "      <td>False</td>\n",
       "      <td>False</td>\n",
       "    </tr>\n",
       "    <tr>\n",
       "      <th>3</th>\n",
       "      <td>False</td>\n",
       "      <td>False</td>\n",
       "      <td>False</td>\n",
       "      <td>False</td>\n",
       "      <td>True</td>\n",
       "      <td>False</td>\n",
       "      <td>False</td>\n",
       "      <td>False</td>\n",
       "      <td>False</td>\n",
       "      <td>False</td>\n",
       "      <td>False</td>\n",
       "      <td>False</td>\n",
       "      <td>False</td>\n",
       "      <td>False</td>\n",
       "      <td>True</td>\n",
       "      <td>False</td>\n",
       "      <td>False</td>\n",
       "      <td>False</td>\n",
       "      <td>False</td>\n",
       "    </tr>\n",
       "    <tr>\n",
       "      <th>4</th>\n",
       "      <td>False</td>\n",
       "      <td>False</td>\n",
       "      <td>False</td>\n",
       "      <td>False</td>\n",
       "      <td>True</td>\n",
       "      <td>False</td>\n",
       "      <td>False</td>\n",
       "      <td>True</td>\n",
       "      <td>False</td>\n",
       "      <td>False</td>\n",
       "      <td>False</td>\n",
       "      <td>False</td>\n",
       "      <td>False</td>\n",
       "      <td>False</td>\n",
       "      <td>True</td>\n",
       "      <td>False</td>\n",
       "      <td>False</td>\n",
       "      <td>False</td>\n",
       "      <td>False</td>\n",
       "    </tr>\n",
       "    <tr>\n",
       "      <th>5</th>\n",
       "      <td>False</td>\n",
       "      <td>False</td>\n",
       "      <td>False</td>\n",
       "      <td>False</td>\n",
       "      <td>True</td>\n",
       "      <td>False</td>\n",
       "      <td>False</td>\n",
       "      <td>False</td>\n",
       "      <td>False</td>\n",
       "      <td>False</td>\n",
       "      <td>False</td>\n",
       "      <td>False</td>\n",
       "      <td>False</td>\n",
       "      <td>False</td>\n",
       "      <td>False</td>\n",
       "      <td>False</td>\n",
       "      <td>False</td>\n",
       "      <td>False</td>\n",
       "      <td>False</td>\n",
       "    </tr>\n",
       "  </tbody>\n",
       "</table>\n",
       "</div>"
      ],
      "text/plain": [
       "         Action  Adventure  Animation  Children  Comedy  Crime  Documentary  \\\n",
       "movieId                                                                       \n",
       "1         False       True       True      True    True  False        False   \n",
       "2         False       True      False      True   False  False        False   \n",
       "3         False      False      False     False    True  False        False   \n",
       "4         False      False      False     False    True  False        False   \n",
       "5         False      False      False     False    True  False        False   \n",
       "\n",
       "         Drama  Fantasy  Film-Noir  Horror   IMAX  Musical  Mystery  Romance  \\\n",
       "movieId                                                                        \n",
       "1        False     True      False   False  False    False    False    False   \n",
       "2        False     True      False   False  False    False    False    False   \n",
       "3        False    False      False   False  False    False    False     True   \n",
       "4         True    False      False   False  False    False    False     True   \n",
       "5        False    False      False   False  False    False    False    False   \n",
       "\n",
       "         Sci-Fi  Thriller    War  Western  \n",
       "movieId                                    \n",
       "1         False     False  False    False  \n",
       "2         False     False  False    False  \n",
       "3         False     False  False    False  \n",
       "4         False     False  False    False  \n",
       "5         False     False  False    False  "
      ]
     },
     "execution_count": 7,
     "metadata": {},
     "output_type": "execute_result"
    }
   ],
   "source": [
    "movies_csv = pd.read_csv(\"./data/movies.csv\", index_col='movieId')\n",
    "genres = movies_csv.genres.str.get_dummies(sep='|').astype(bool).drop(['(no genres listed)'], axis=1)\n",
    "movies = movies_csv.drop(['title', 'genres'], axis=1).join(genres)\n",
    "movies.head()"
   ]
  },
  {
   "cell_type": "code",
   "execution_count": 8,
   "metadata": {},
   "outputs": [
    {
     "data": {
      "text/html": [
       "<div>\n",
       "<style scoped>\n",
       "    .dataframe tbody tr th:only-of-type {\n",
       "        vertical-align: middle;\n",
       "    }\n",
       "\n",
       "    .dataframe tbody tr th {\n",
       "        vertical-align: top;\n",
       "    }\n",
       "\n",
       "    .dataframe thead th {\n",
       "        text-align: right;\n",
       "    }\n",
       "</style>\n",
       "<table border=\"1\" class=\"dataframe\">\n",
       "  <thead>\n",
       "    <tr style=\"text-align: right;\">\n",
       "      <th></th>\n",
       "      <th></th>\n",
       "      <th>rating</th>\n",
       "    </tr>\n",
       "    <tr>\n",
       "      <th>userId</th>\n",
       "      <th>movieId</th>\n",
       "      <th></th>\n",
       "    </tr>\n",
       "  </thead>\n",
       "  <tbody>\n",
       "    <tr>\n",
       "      <th rowspan=\"5\" valign=\"top\">1</th>\n",
       "      <th>31</th>\n",
       "      <td>2.5</td>\n",
       "    </tr>\n",
       "    <tr>\n",
       "      <th>1029</th>\n",
       "      <td>3.0</td>\n",
       "    </tr>\n",
       "    <tr>\n",
       "      <th>1061</th>\n",
       "      <td>3.0</td>\n",
       "    </tr>\n",
       "    <tr>\n",
       "      <th>1129</th>\n",
       "      <td>2.0</td>\n",
       "    </tr>\n",
       "    <tr>\n",
       "      <th>1172</th>\n",
       "      <td>4.0</td>\n",
       "    </tr>\n",
       "  </tbody>\n",
       "</table>\n",
       "</div>"
      ],
      "text/plain": [
       "                rating\n",
       "userId movieId        \n",
       "1      31          2.5\n",
       "       1029        3.0\n",
       "       1061        3.0\n",
       "       1129        2.0\n",
       "       1172        4.0"
      ]
     },
     "execution_count": 8,
     "metadata": {},
     "output_type": "execute_result"
    }
   ],
   "source": [
    "ratings_csv = pd.read_csv(\"./data/ratings.csv\", index_col=['userId', 'movieId'])\n",
    "ratings = ratings_csv.drop('timestamp', axis=1)\n",
    "ratings.head()"
   ]
  },
  {
   "cell_type": "code",
   "execution_count": 9,
   "metadata": {},
   "outputs": [],
   "source": [
    "class Model:\n",
    "    def train(self, train_data):\n",
    "        ...\n",
    "    def predict(self, predict_index):\n",
    "        result = pd.DataFrame(predict_index.apply(self.get_rating, axis = 1), columns=['prediction'])\n",
    "        result.index = pd.MultiIndex.from_frame(predict_index)\n",
    "        return result\n",
    "    def get_rating(self, id):\n",
    "        ..."
   ]
  },
  {
   "cell_type": "code",
   "execution_count": 10,
   "metadata": {},
   "outputs": [],
   "source": [
    "n_folds = 10\n",
    "kf = KFold(n_splits=n_folds, shuffle=True, random_state=seed)\n",
    "evaluation_sample = ratings.sample(frac=1, random_state=seed)\n",
    "\n",
    "def evaluate(model, print_folds=False, print_sample=False):\n",
    "    scores = []\n",
    "    for i, (train_index, test_index) in enumerate(kf.split(evaluation_sample), start=1):\n",
    "        train_data = ratings.iloc[train_index]\n",
    "        test_data = ratings.iloc[test_index]\n",
    "\n",
    "        model.train(train_data)\n",
    "        predict_index = test_data.drop('rating', axis=1).reset_index()\n",
    "        predictions = model.predict(predict_index)\n",
    "        mae = mean_absolute_error(test_data['rating'], predictions)\n",
    "        scores.append(mae)\n",
    "        if print_folds:\n",
    "            print(\"Fold no.\", i)\n",
    "            if print_sample:\n",
    "                print(\"Prediction sample:\\n\", test_data.join(predictions).sample(n=5, random_state=seed))\n",
    "            print(\"MAE score:\", mae)\n",
    "            print()\n",
    "    print(\"Mean MAE score:\", np.mean(scores))"
   ]
  },
  {
   "cell_type": "code",
   "execution_count": 11,
   "metadata": {},
   "outputs": [
    {
     "name": "stdout",
     "output_type": "stream",
     "text": [
      "Mean MAE score: 0.8498061887002397\n"
     ]
    }
   ],
   "source": [
    "class GlobalMean(Model):\n",
    "    def train(self, train_data):\n",
    "        self.mean = train_data.rating.mean()\n",
    "    def get_rating(self, id):\n",
    "        return self.mean\n",
    "    \n",
    "evaluate(GlobalMean())"
   ]
  },
  {
   "cell_type": "code",
   "execution_count": 12,
   "metadata": {},
   "outputs": [
    {
     "name": "stdout",
     "output_type": "stream",
     "text": [
      "Mean MAE score: 0.7709324791629936\n"
     ]
    }
   ],
   "source": [
    "class MovieMean(GlobalMean):\n",
    "    def train(self, train_data):\n",
    "        super().train(train_data)\n",
    "        self.mean_movies = train_data.groupby('movieId').mean()\n",
    "    \n",
    "    def get_rating(self, id):\n",
    "        result = self.mean_movies['rating'].get(id.movieId)\n",
    "        if result is None:\n",
    "            result =  super().get_rating(id)\n",
    "        return result\n",
    "\n",
    "\n",
    "evaluate(MovieMean())"
   ]
  },
  {
   "cell_type": "code",
   "execution_count": 13,
   "metadata": {},
   "outputs": [
    {
     "name": "stdout",
     "output_type": "stream",
     "text": [
      "Mean MAE score: 0.7500415782537506\n"
     ]
    }
   ],
   "source": [
    "class UserMean(MovieMean):\n",
    "    def train(self, train_data):\n",
    "        super().train(train_data)\n",
    "        self.mean_users = train_data.groupby('userId').mean()\n",
    "    \n",
    "    def get_rating(self, id):\n",
    "        result = self.mean_users['rating'].get(id.userId)\n",
    "        if result is None:\n",
    "            result =  super().get_rating(id)\n",
    "        return result\n",
    "\n",
    "\n",
    "evaluate(UserMean())"
   ]
  },
  {
   "cell_type": "code",
   "execution_count": 16,
   "metadata": {},
   "outputs": [
    {
     "data": {
      "image/png": "[encoded data removed]",
      "text/plain": [
       "<Figure size 640x480 with 1 Axes>"
      ]
     },
     "metadata": {},
     "output_type": "display_data"
    }
   ],
   "source": [
    "genre_user_matrix = ratings.join(movies).melt(id_vars='rating', ignore_index=False)\n",
    "genre_user_matrix = genre_user_matrix.groupby(['userId', 'variable', 'value',]).mean()\n",
    "genre_user_matrix = genre_user_matrix.reset_index(['variable', 'value']).pivot(columns=['variable', 'value'])\n",
    "genre_user_matrix = genre_user_matrix.fillna(genre_user_matrix.mean())\n",
    "\n",
    "wcss = []\n",
    "for i in range(2, 20):\n",
    "    kmeans = KMeans(n_clusters=i, random_state=1)\n",
    "    kmeans.fit(genre_user_matrix)\n",
    "    wcss.append(kmeans.inertia_)\n",
    "\n",
    "plt.plot(range(2, 20), wcss, marker='o', color='#4a0c6b')\n",
    "plt.title('Elbow Method')\n",
    "plt.xlabel('Number of clusters')\n",
    "plt.ylabel('WCSS')\n",
    "plt.grid(True)"
   ]
  },
  {
   "cell_type": "code",
   "execution_count": 15,
   "metadata": {},
   "outputs": [
    {
     "name": "stdout",
     "output_type": "stream",
     "text": [
      "Mean MAE score: 0.7293222374369018\n"
     ]
    }
   ],
   "source": [
    "def helper(x, rating_columns):\n",
    "    intersection = x & rating_columns\n",
    "    if intersection:\n",
    "        return float(next(iter(intersection)))\n",
    "    return 0\n",
    "\n",
    "class ClusterAssocRules(UserMean):\n",
    "    def __init__(self, n):\n",
    "        self.n = n\n",
    "    def train(self, train_data):\n",
    "        self.once = True\n",
    "        super().train(train_data)\n",
    "        rating_matrix = train_data.join(movies).melt(id_vars='rating', ignore_index=False)\n",
    "        rating_matrix = rating_matrix[rating_matrix.value]\n",
    "        rating_matrix.drop('value', axis=1, inplace=True)\n",
    "        rating_matrix = rating_matrix.groupby(['userId', 'variable']).mean()\n",
    "        rating_matrix.reset_index('variable', inplace=True)\n",
    "        self.genre_rating = rating_matrix.pivot(columns='variable')\n",
    "        kmeans = KMeans(self.n, random_state=seed)\n",
    "        rating_matrix = train_data.join(movies).melt(id_vars='rating', ignore_index=False)\n",
    "        rating_matrix = rating_matrix.groupby(['userId', 'variable', 'value',]).mean()\n",
    "        rating_matrix = rating_matrix.reset_index(['variable', 'value']).pivot(columns=['variable', 'value'])\n",
    "        rating_matrix = rating_matrix.fillna(rating_matrix.mean())\n",
    "        self.labels = pd.DataFrame(kmeans.fit_predict(rating_matrix), index=rating_matrix.index, columns=['label'])\n",
    "        dummy_ratings = pd.get_dummies(train_data, columns=['rating'], prefix='', prefix_sep='').join(movies)\n",
    "        rating_columns = set(dummy_ratings.columns[0:10])\n",
    "        self.relevant_rules = []\n",
    "        for label in range(self.n):\n",
    "            cluster = self.labels[self.labels.label == label]\n",
    "            cluster_ratings = dummy_ratings.loc[cluster.index]\n",
    "            frequent_itemsets = apriori(cluster_ratings, min_support=0.005, use_colnames=True, max_len=10)\n",
    "            rules = association_rules(frequent_itemsets, min_threshold=0.5)[['antecedents', 'consequents', 'confidence']]\n",
    "            rules.consequents = rules.consequents.map(lambda x: helper(x, rating_columns))\n",
    "            self.relevant_rules.append(rules[rules.consequents != 0])\n",
    "            \n",
    "    def get_rating(self, id):\n",
    "        label = self.labels.label.get(id.userId)\n",
    "        if label:\n",
    "            rules = self.relevant_rules[label]\n",
    "            if not rules.empty:\n",
    "                movie = movies.loc[id.movieId]\n",
    "                genres = set(movie.index[movie])\n",
    "                relevant_rules = rules[rules.antecedents <= genres]\n",
    "                if not relevant_rules.empty:\n",
    "                    confidence_sum = relevant_rules.confidence.sum()\n",
    "                    weighted_ratings = relevant_rules[['consequents', 'confidence']].prod(axis=1).sum()\n",
    "                    mean = min(max(weighted_ratings/confidence_sum, 0.5), 5.0)\n",
    "                    return mean\n",
    "        genres = self.genre_rating.xs(id.userId)\n",
    "        genres.reset_index(0, drop=True, inplace=True)\n",
    "        relevant_ratings = genres[movies.loc[id.movieId]]\n",
    "        relevant_ratings.dropna(inplace=True)\n",
    "        if len(relevant_ratings) != 0:\n",
    "            return relevant_ratings.mean()\n",
    "        return super().get_rating(id)\n",
    "\n",
    "evaluate(ClusterAssocRules(13))"
   ]
  },
  {
   "cell_type": "code",
   "execution_count": 25,
   "metadata": {},
   "outputs": [],
   "source": [
    "def get_rating(userId, movieId):\n",
    "    id = pd.Series(data={\"userId\": userId, \"movieId\": movieId})\n",
    "    model = ClusterAssocRules(13)\n",
    "    model.train(ratings)\n",
    "    return model.get_rating(id)"
   ]
  },
  {
   "cell_type": "code",
   "execution_count": 26,
   "metadata": {},
   "outputs": [
    {
     "data": {
      "text/plain": [
       "2.158333333333333"
      ]
     },
     "execution_count": 26,
     "metadata": {},
     "output_type": "execute_result"
    }
   ],
   "source": [
    "get_rating(1, 1)"
   ]
  }
 ],
 "metadata": {
  "kernelspec": {
   "display_name": "Python 3 (ipykernel)",
   "language": "python",
   "name": "python3"
  },
  "language_info": {
   "codemirror_mode": {
    "name": "ipython",
    "version": 3
   },
   "file_extension": ".py",
   "mimetype": "text/x-python",
   "name": "python",
   "nbconvert_exporter": "python",
   "pygments_lexer": "ipython3",
   "version": "3.12.3"
  }
 },
 "nbformat": 4,
 "nbformat_minor": 2
}
